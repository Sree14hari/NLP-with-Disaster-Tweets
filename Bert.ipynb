{
 "cells": [
  {
   "cell_type": "code",
   "execution_count": 3,
   "id": "8469a12b",
   "metadata": {},
   "outputs": [],
   "source": [
    "# Import all required packages\n",
    "import torch\n",
    "from torch.utils.data import Dataset, DataLoader\n",
    "from transformers import BertTokenizer, BertForSequenceClassification, get_linear_schedule_with_warmup\n",
    "from torch.optim import AdamW\n",
    "import pandas as pd\n",
    "import numpy as np\n",
    "from tqdm.auto import tqdm # For a nice progress bar\n",
    "\n",
    "\n",
    "traindata = pd.read_csv('data/train.csv')\n",
    "testdata = pd.read_csv('data/test.csv')"
   ]
  },
  {
   "cell_type": "code",
   "execution_count": 4,
   "id": "a14ca9bc",
   "metadata": {},
   "outputs": [
    {
     "name": "stdout",
     "output_type": "stream",
     "text": [
      "Success! There are 1 GPU(s) available.\n",
      "We will use the GPU: NVIDIA GeForce RTX 4050 Laptop GPU\n"
     ]
    }
   ],
   "source": [
    "# Check if a CUDA-enabled GPU is available, otherwise fall back to CPU\n",
    "if torch.cuda.is_available():\n",
    "    device = torch.device(\"cuda\")\n",
    "    print(f\"Success! There are {torch.cuda.device_count()} GPU(s) available.\")\n",
    "    print(\"We will use the GPU:\", torch.cuda.get_device_name(0))\n",
    "else:\n",
    "    print(\"No GPU available, using the CPU instead.\")\n",
    "    device = torch.device(\"cpu\")"
   ]
  },
  {
   "cell_type": "code",
   "execution_count": 5,
   "id": "315e5150",
   "metadata": {},
   "outputs": [],
   "source": [
    "# Load the pre-trained BERT tokenizer\n",
    "tokenizer = BertTokenizer.from_pretrained('bert-base-uncased')\n",
    "\n",
    "# Tokenize and format the training data\n",
    "train_encodings = tokenizer(\n",
    "    list(traindata['text']),\n",
    "    max_length=128,\n",
    "    padding='max_length',\n",
    "    truncation=True,\n",
    "    return_tensors='pt'\n",
    ")\n",
    "\n",
    "# Tokenize and format the test data\n",
    "test_encodings = tokenizer(\n",
    "    list(testdata['text']),\n",
    "    max_length=128,\n",
    "    padding='max_length',\n",
    "    truncation=True,\n",
    "    return_tensors='pt'\n",
    ")\n",
    "\n",
    "# Prepare the labels as a tensor\n",
    "train_labels = torch.tensor(traindata['target'].values)"
   ]
  },
  {
   "cell_type": "code",
   "execution_count": 6,
   "id": "5e91970e",
   "metadata": {},
   "outputs": [],
   "source": [
    "class DisasterTweetDataset(Dataset):\n",
    "    def __init__(self, encodings, labels=None):\n",
    "        self.encodings = encodings\n",
    "        self.labels = labels\n",
    "\n",
    "    def __getitem__(self, idx):\n",
    "        item = {key: val[idx] for key, val in self.encodings.items()}\n",
    "        if self.labels is not None:\n",
    "            item['labels'] = self.labels[idx]\n",
    "        return item\n",
    "\n",
    "    def __len__(self):\n",
    "        return len(self.encodings['input_ids'])\n",
    "\n",
    "# Create datasets\n",
    "train_dataset = DisasterTweetDataset(train_encodings, train_labels)\n",
    "test_dataset = DisasterTweetDataset(test_encodings)\n",
    "\n",
    "# Create dataloaders\n",
    "train_dataloader = DataLoader(train_dataset, batch_size=16, shuffle=True)\n",
    "test_dataloader = DataLoader(test_dataset, batch_size=16, shuffle=False)"
   ]
  },
  {
   "cell_type": "code",
   "execution_count": 7,
   "id": "8a81e1d6",
   "metadata": {},
   "outputs": [
    {
     "name": "stderr",
     "output_type": "stream",
     "text": [
      "Some weights of BertForSequenceClassification were not initialized from the model checkpoint at bert-base-uncased and are newly initialized: ['classifier.bias', 'classifier.weight']\n",
      "You should probably TRAIN this model on a down-stream task to be able to use it for predictions and inference.\n"
     ]
    }
   ],
   "source": [
    "# Load the PyTorch version of the pre-trained BERT model\n",
    "model = BertForSequenceClassification.from_pretrained('bert-base-uncased')\n",
    "\n",
    "# Move the model to the GPU\n",
    "model.to(device)\n",
    "\n",
    "# Set up the optimizer and learning rate scheduler\n",
    "optimizer = AdamW(model.parameters(), lr=3e-5)\n",
    "total_steps = len(train_dataloader) * 2 # 2 epochs\n",
    "scheduler = get_linear_schedule_with_warmup(optimizer, num_warmup_steps=0, num_training_steps=total_steps)"
   ]
  },
  {
   "cell_type": "code",
   "execution_count": 8,
   "id": "69a1658d",
   "metadata": {},
   "outputs": [
    {
     "name": "stdout",
     "output_type": "stream",
     "text": [
      "Starting training...\n"
     ]
    },
    {
     "data": {
      "application/vnd.jupyter.widget-view+json": {
       "model_id": "2b7c57c1695b4d28bdc6d2a639fefb4a",
       "version_major": 2,
       "version_minor": 0
      },
      "text/plain": [
       "Epoch 1:   0%|          | 0/476 [00:00<?, ?it/s]"
      ]
     },
     "metadata": {},
     "output_type": "display_data"
    },
    {
     "data": {
      "application/vnd.jupyter.widget-view+json": {
       "model_id": "475f2623abaa48d59dd2e4b473839c54",
       "version_major": 2,
       "version_minor": 0
      },
      "text/plain": [
       "Epoch 2:   0%|          | 0/476 [00:00<?, ?it/s]"
      ]
     },
     "metadata": {},
     "output_type": "display_data"
    },
    {
     "name": "stdout",
     "output_type": "stream",
     "text": [
      "Training finished.\n"
     ]
    }
   ],
   "source": [
    "print(\"Starting training...\")\n",
    "model.train() # Set the model to training mode\n",
    "\n",
    "for epoch in range(2): # Train for 2 epochs\n",
    "    progress_bar = tqdm(train_dataloader, desc=f\"Epoch {epoch + 1}\")\n",
    "    for batch in progress_bar:\n",
    "        # Clear any previously calculated gradients\n",
    "        optimizer.zero_grad()\n",
    "        \n",
    "        # Move batch data to the GPU\n",
    "        input_ids = batch['input_ids'].to(device)\n",
    "        attention_mask = batch['attention_mask'].to(device)\n",
    "        labels = batch['labels'].to(device)\n",
    "\n",
    "        # Forward pass: compute predicted outputs by passing inputs to the model\n",
    "        outputs = model(input_ids, attention_mask=attention_mask, labels=labels)\n",
    "        \n",
    "        # Get the loss\n",
    "        loss = outputs.loss\n",
    "        \n",
    "        # Backward pass: compute gradient of the loss with respect to model parameters\n",
    "        loss.backward()\n",
    "        \n",
    "        # Update the model's weights\n",
    "        optimizer.step()\n",
    "        scheduler.step()\n",
    "        \n",
    "        # Update the progress bar\n",
    "        progress_bar.set_postfix({'loss': loss.item()})\n",
    "\n",
    "print(\"Training finished.\")"
   ]
  },
  {
   "cell_type": "code",
   "execution_count": 9,
   "id": "d144122b",
   "metadata": {},
   "outputs": [
    {
     "name": "stdout",
     "output_type": "stream",
     "text": [
      "Starting prediction...\n"
     ]
    },
    {
     "data": {
      "application/vnd.jupyter.widget-view+json": {
       "model_id": "9990139c1fbe4228b01ccc42ad35ea82",
       "version_major": 2,
       "version_minor": 0
      },
      "text/plain": [
       "Predicting:   0%|          | 0/204 [00:00<?, ?it/s]"
      ]
     },
     "metadata": {},
     "output_type": "display_data"
    },
    {
     "name": "stdout",
     "output_type": "stream",
     "text": [
      "Prediction finished.\n"
     ]
    }
   ],
   "source": [
    "print(\"Starting prediction...\")\n",
    "model.eval() # Set the model to evaluation mode\n",
    "all_predictions = []\n",
    "\n",
    "with torch.no_grad(): # Turn off gradients for prediction\n",
    "    for batch in tqdm(test_dataloader, desc=\"Predicting\"):\n",
    "        # Move batch data to the GPU\n",
    "        input_ids = batch['input_ids'].to(device)\n",
    "        attention_mask = batch['attention_mask'].to(device)\n",
    "        \n",
    "        # Get model outputs\n",
    "        outputs = model(input_ids, attention_mask=attention_mask)\n",
    "        \n",
    "        # Get the predictions (the class with the highest score)\n",
    "        predictions = torch.argmax(outputs.logits, dim=1)\n",
    "        \n",
    "        # Move predictions to CPU and convert to numpy array\n",
    "        all_predictions.extend(predictions.cpu().numpy())\n",
    "\n",
    "print(\"Prediction finished.\")"
   ]
  },
  {
   "cell_type": "code",
   "execution_count": 10,
   "id": "5b99cf3b",
   "metadata": {},
   "outputs": [
    {
     "name": "stdout",
     "output_type": "stream",
     "text": [
      "\n",
      "Submission file 'submission_bert_pytorch.csv' created successfully!\n",
      "   id  target\n",
      "0   0       1\n",
      "1   2       1\n",
      "2   3       1\n",
      "3   9       1\n",
      "4  11       1\n"
     ]
    }
   ],
   "source": [
    "# Create and save the submission file\n",
    "submission_bert_pytorch = pd.DataFrame({\n",
    "    'id': testdata['id'],\n",
    "    'target': all_predictions\n",
    "})\n",
    "submission_bert_pytorch.to_csv('submission_bert_pytorch.csv', index=False)\n",
    "\n",
    "print(\"\\nSubmission file 'submission_bert_pytorch.csv' created successfully!\")\n",
    "print(submission_bert_pytorch.head())"
   ]
  }
 ],
 "metadata": {
  "kernelspec": {
   "display_name": "SHR",
   "language": "python",
   "name": "python3"
  },
  "language_info": {
   "codemirror_mode": {
    "name": "ipython",
    "version": 3
   },
   "file_extension": ".py",
   "mimetype": "text/x-python",
   "name": "python",
   "nbconvert_exporter": "python",
   "pygments_lexer": "ipython3",
   "version": "3.12.11"
  }
 },
 "nbformat": 4,
 "nbformat_minor": 5
}
