{
 "cells": [
  {
   "cell_type": "markdown",
   "id": "4322ebdc",
   "metadata": {},
   "source": [
    "# Natural Language Processing with Disaster Tweets"
   ]
  },
  {
   "cell_type": "code",
   "execution_count": 3,
   "id": "2d09b908",
   "metadata": {},
   "outputs": [],
   "source": [
    "import pandas as  pd\n",
    "import matplotlib.pyplot as plt\n",
    "import seaborn as sns\n"
   ]
  },
  {
   "cell_type": "code",
   "execution_count": 4,
   "id": "deeef2d3",
   "metadata": {},
   "outputs": [],
   "source": [
    "traindata=pd.read_csv(\"data/train.csv\")\n",
    "testdata=pd.read_csv(\"data/test.csv\")"
   ]
  },
  {
   "cell_type": "code",
   "execution_count": 5,
   "id": "30287657",
   "metadata": {},
   "outputs": [
    {
     "data": {
      "application/vnd.microsoft.datawrangler.viewer.v0+json": {
       "columns": [
        {
         "name": "index",
         "rawType": "int64",
         "type": "integer"
        },
        {
         "name": "id",
         "rawType": "int64",
         "type": "integer"
        },
        {
         "name": "keyword",
         "rawType": "object",
         "type": "unknown"
        },
        {
         "name": "location",
         "rawType": "object",
         "type": "unknown"
        },
        {
         "name": "text",
         "rawType": "object",
         "type": "string"
        },
        {
         "name": "target",
         "rawType": "int64",
         "type": "integer"
        }
       ],
       "ref": "7122b31f-9ff4-4c06-a3a6-33c89c0b4643",
       "rows": [
        [
         "0",
         "1",
         null,
         null,
         "Our Deeds are the Reason of this #earthquake May ALLAH Forgive us all",
         "1"
        ],
        [
         "1",
         "4",
         null,
         null,
         "Forest fire near La Ronge Sask. Canada",
         "1"
        ],
        [
         "2",
         "5",
         null,
         null,
         "All residents asked to 'shelter in place' are being notified by officers. No other evacuation or shelter in place orders are expected",
         "1"
        ],
        [
         "3",
         "6",
         null,
         null,
         "13,000 people receive #wildfires evacuation orders in California ",
         "1"
        ],
        [
         "4",
         "7",
         null,
         null,
         "Just got sent this photo from Ruby #Alaska as smoke from #wildfires pours into a school ",
         "1"
        ]
       ],
       "shape": {
        "columns": 5,
        "rows": 5
       }
      },
      "text/html": [
       "<div>\n",
       "<style scoped>\n",
       "    .dataframe tbody tr th:only-of-type {\n",
       "        vertical-align: middle;\n",
       "    }\n",
       "\n",
       "    .dataframe tbody tr th {\n",
       "        vertical-align: top;\n",
       "    }\n",
       "\n",
       "    .dataframe thead th {\n",
       "        text-align: right;\n",
       "    }\n",
       "</style>\n",
       "<table border=\"1\" class=\"dataframe\">\n",
       "  <thead>\n",
       "    <tr style=\"text-align: right;\">\n",
       "      <th></th>\n",
       "      <th>id</th>\n",
       "      <th>keyword</th>\n",
       "      <th>location</th>\n",
       "      <th>text</th>\n",
       "      <th>target</th>\n",
       "    </tr>\n",
       "  </thead>\n",
       "  <tbody>\n",
       "    <tr>\n",
       "      <th>0</th>\n",
       "      <td>1</td>\n",
       "      <td>NaN</td>\n",
       "      <td>NaN</td>\n",
       "      <td>Our Deeds are the Reason of this #earthquake M...</td>\n",
       "      <td>1</td>\n",
       "    </tr>\n",
       "    <tr>\n",
       "      <th>1</th>\n",
       "      <td>4</td>\n",
       "      <td>NaN</td>\n",
       "      <td>NaN</td>\n",
       "      <td>Forest fire near La Ronge Sask. Canada</td>\n",
       "      <td>1</td>\n",
       "    </tr>\n",
       "    <tr>\n",
       "      <th>2</th>\n",
       "      <td>5</td>\n",
       "      <td>NaN</td>\n",
       "      <td>NaN</td>\n",
       "      <td>All residents asked to 'shelter in place' are ...</td>\n",
       "      <td>1</td>\n",
       "    </tr>\n",
       "    <tr>\n",
       "      <th>3</th>\n",
       "      <td>6</td>\n",
       "      <td>NaN</td>\n",
       "      <td>NaN</td>\n",
       "      <td>13,000 people receive #wildfires evacuation or...</td>\n",
       "      <td>1</td>\n",
       "    </tr>\n",
       "    <tr>\n",
       "      <th>4</th>\n",
       "      <td>7</td>\n",
       "      <td>NaN</td>\n",
       "      <td>NaN</td>\n",
       "      <td>Just got sent this photo from Ruby #Alaska as ...</td>\n",
       "      <td>1</td>\n",
       "    </tr>\n",
       "  </tbody>\n",
       "</table>\n",
       "</div>"
      ],
      "text/plain": [
       "   id keyword location                                               text  \\\n",
       "0   1     NaN      NaN  Our Deeds are the Reason of this #earthquake M...   \n",
       "1   4     NaN      NaN             Forest fire near La Ronge Sask. Canada   \n",
       "2   5     NaN      NaN  All residents asked to 'shelter in place' are ...   \n",
       "3   6     NaN      NaN  13,000 people receive #wildfires evacuation or...   \n",
       "4   7     NaN      NaN  Just got sent this photo from Ruby #Alaska as ...   \n",
       "\n",
       "   target  \n",
       "0       1  \n",
       "1       1  \n",
       "2       1  \n",
       "3       1  \n",
       "4       1  "
      ]
     },
     "execution_count": 5,
     "metadata": {},
     "output_type": "execute_result"
    }
   ],
   "source": [
    "traindata.head()"
   ]
  },
  {
   "cell_type": "code",
   "execution_count": 6,
   "id": "66abb8a4",
   "metadata": {},
   "outputs": [
    {
     "data": {
      "application/vnd.microsoft.datawrangler.viewer.v0+json": {
       "columns": [
        {
         "name": "index",
         "rawType": "int64",
         "type": "integer"
        },
        {
         "name": "id",
         "rawType": "int64",
         "type": "integer"
        },
        {
         "name": "keyword",
         "rawType": "object",
         "type": "unknown"
        },
        {
         "name": "location",
         "rawType": "object",
         "type": "unknown"
        },
        {
         "name": "text",
         "rawType": "object",
         "type": "string"
        }
       ],
       "ref": "40bdf9c4-c772-48b6-8311-7bd06c83371e",
       "rows": [
        [
         "0",
         "0",
         null,
         null,
         "Just happened a terrible car crash"
        ],
        [
         "1",
         "2",
         null,
         null,
         "Heard about #earthquake is different cities, stay safe everyone."
        ],
        [
         "2",
         "3",
         null,
         null,
         "there is a forest fire at spot pond, geese are fleeing across the street, I cannot save them all"
        ],
        [
         "3",
         "9",
         null,
         null,
         "Apocalypse lighting. #Spokane #wildfires"
        ],
        [
         "4",
         "11",
         null,
         null,
         "Typhoon Soudelor kills 28 in China and Taiwan"
        ]
       ],
       "shape": {
        "columns": 4,
        "rows": 5
       }
      },
      "text/html": [
       "<div>\n",
       "<style scoped>\n",
       "    .dataframe tbody tr th:only-of-type {\n",
       "        vertical-align: middle;\n",
       "    }\n",
       "\n",
       "    .dataframe tbody tr th {\n",
       "        vertical-align: top;\n",
       "    }\n",
       "\n",
       "    .dataframe thead th {\n",
       "        text-align: right;\n",
       "    }\n",
       "</style>\n",
       "<table border=\"1\" class=\"dataframe\">\n",
       "  <thead>\n",
       "    <tr style=\"text-align: right;\">\n",
       "      <th></th>\n",
       "      <th>id</th>\n",
       "      <th>keyword</th>\n",
       "      <th>location</th>\n",
       "      <th>text</th>\n",
       "    </tr>\n",
       "  </thead>\n",
       "  <tbody>\n",
       "    <tr>\n",
       "      <th>0</th>\n",
       "      <td>0</td>\n",
       "      <td>NaN</td>\n",
       "      <td>NaN</td>\n",
       "      <td>Just happened a terrible car crash</td>\n",
       "    </tr>\n",
       "    <tr>\n",
       "      <th>1</th>\n",
       "      <td>2</td>\n",
       "      <td>NaN</td>\n",
       "      <td>NaN</td>\n",
       "      <td>Heard about #earthquake is different cities, s...</td>\n",
       "    </tr>\n",
       "    <tr>\n",
       "      <th>2</th>\n",
       "      <td>3</td>\n",
       "      <td>NaN</td>\n",
       "      <td>NaN</td>\n",
       "      <td>there is a forest fire at spot pond, geese are...</td>\n",
       "    </tr>\n",
       "    <tr>\n",
       "      <th>3</th>\n",
       "      <td>9</td>\n",
       "      <td>NaN</td>\n",
       "      <td>NaN</td>\n",
       "      <td>Apocalypse lighting. #Spokane #wildfires</td>\n",
       "    </tr>\n",
       "    <tr>\n",
       "      <th>4</th>\n",
       "      <td>11</td>\n",
       "      <td>NaN</td>\n",
       "      <td>NaN</td>\n",
       "      <td>Typhoon Soudelor kills 28 in China and Taiwan</td>\n",
       "    </tr>\n",
       "  </tbody>\n",
       "</table>\n",
       "</div>"
      ],
      "text/plain": [
       "   id keyword location                                               text\n",
       "0   0     NaN      NaN                 Just happened a terrible car crash\n",
       "1   2     NaN      NaN  Heard about #earthquake is different cities, s...\n",
       "2   3     NaN      NaN  there is a forest fire at spot pond, geese are...\n",
       "3   9     NaN      NaN           Apocalypse lighting. #Spokane #wildfires\n",
       "4  11     NaN      NaN      Typhoon Soudelor kills 28 in China and Taiwan"
      ]
     },
     "execution_count": 6,
     "metadata": {},
     "output_type": "execute_result"
    }
   ],
   "source": [
    "testdata.head()"
   ]
  },
  {
   "cell_type": "code",
   "execution_count": 12,
   "id": "721d5976",
   "metadata": {},
   "outputs": [
    {
     "name": "stdout",
     "output_type": "stream",
     "text": [
      "Train data (7613, 5)\n",
      "Test data (3263, 4)\n"
     ]
    }
   ],
   "source": [
    "print(f\"Train data {traindata.shape}\")\n",
    "print(f\"Test data {testdata.shape}\")"
   ]
  },
  {
   "cell_type": "code",
   "execution_count": 16,
   "id": "46aa3051",
   "metadata": {},
   "outputs": [
    {
     "name": "stdout",
     "output_type": "stream",
     "text": [
      "*********Train Data***************\n",
      "\n",
      "id             0\n",
      "keyword       61\n",
      "location    2533\n",
      "text           0\n",
      "target         0\n",
      "dtype: int64\n",
      "\n",
      "*********Test Data***************\n",
      "\n",
      "id             0\n",
      "keyword       26\n",
      "location    1105\n",
      "text           0\n",
      "dtype: int64\n",
      "\n"
     ]
    }
   ],
   "source": [
    "print(\"*********Train Data***************\\n\")\n",
    "print(f\"{traindata.isnull().sum()}\\n\")\n",
    "print(\"*********Test Data***************\\n\")\n",
    "print(f\"{testdata.isnull().sum()}\\n\")"
   ]
  },
  {
   "cell_type": "code",
   "execution_count": 24,
   "id": "b5e185b3",
   "metadata": {},
   "outputs": [
    {
     "name": "stdout",
     "output_type": "stream",
     "text": [
      "target\n",
      "0    4342\n",
      "1    3271\n",
      "Name: count, dtype: int64\n"
     ]
    },
    {
     "data": {
      "image/png": "[encoded data removed]",
      "text/plain": [
       "<Figure size 640x480 with 1 Axes>"
      ]
     },
     "metadata": {},
     "output_type": "display_data"
    }
   ],
   "source": [
    "count_t=traindata[\"target\"].value_counts()\n",
    "print(count_t)\n",
    "count_t.plot(kind='bar')\n",
    "plt.show()"
   ]
  },
  {
   "cell_type": "code",
   "execution_count": 32,
   "id": "d22a0edb",
   "metadata": {},
   "outputs": [
    {
     "name": "stdout",
     "output_type": "stream",
     "text": [
      "Top 15 keywords in DISASTER tweets:\n",
      "keyword\n",
      "derailment             39\n",
      "outbreak               39\n",
      "wreckage               39\n",
      "debris                 37\n",
      "oil%20spill            37\n",
      "typhoon                37\n",
      "rescuers               32\n",
      "suicide%20bomb         32\n",
      "suicide%20bombing      32\n",
      "evacuated              32\n",
      "nuclear%20disaster     31\n",
      "razed                  31\n",
      "airplane%20accident    30\n",
      "suicide%20bomber       30\n",
      "earthquake             30\n",
      "Name: count, dtype: int64\n"
     ]
    }
   ],
   "source": [
    "# Filter for disaster tweets, then get the keyword counts\n",
    "disaster_keywords = traindata[traindata['target'] == 1]['keyword'].value_counts()\n",
    "\n",
    "# Display the top 15\n",
    "print(\"Top 15 keywords in DISASTER tweets:\")\n",
    "print(disaster_keywords.head(15))"
   ]
  },
  {
   "cell_type": "code",
   "execution_count": 33,
   "id": "bdfee8fc",
   "metadata": {},
   "outputs": [
    {
     "name": "stdout",
     "output_type": "stream",
     "text": [
      "Top 15 keywords in DISASTER tweets:\n",
      "keyword\n",
      "body%20bags    40\n",
      "armageddon     37\n",
      "harm           37\n",
      "deluge         36\n",
      "ruin           36\n",
      "wrecked        36\n",
      "explode        35\n",
      "fear           35\n",
      "twister        35\n",
      "siren          35\n",
      "panic          34\n",
      "aftershock     34\n",
      "screaming      34\n",
      "blizzard       33\n",
      "blazing        33\n",
      "Name: count, dtype: int64\n"
     ]
    }
   ],
   "source": [
    "# Filter for disaster tweets, then get the keyword counts\n",
    "disaster_keywords = traindata[traindata['target'] == 0]['keyword'].value_counts()\n",
    "\n",
    "# Display the top 15\n",
    "print(\"Top 15 keywords in DISASTER tweets:\")\n",
    "print(disaster_keywords.head(15))"
   ]
  },
  {
   "cell_type": "code",
   "execution_count": 35,
   "id": "5396599f",
   "metadata": {},
   "outputs": [
    {
     "name": "stdout",
     "output_type": "stream",
     "text": [
      "DataFrame with new meta-features:\n",
      "                                                text  char_count  word_count  \\\n",
      "0  Our Deeds are the Reason of this #earthquake M...          69          13   \n",
      "1             Forest fire near La Ronge Sask. Canada          38           7   \n",
      "2  All residents asked to 'shelter in place' are ...         133          22   \n",
      "3  13,000 people receive #wildfires evacuation or...          65           8   \n",
      "4  Just got sent this photo from Ruby #Alaska as ...          88          16   \n",
      "\n",
      "   avg_word_length  \n",
      "0         4.384615  \n",
      "1         4.571429  \n",
      "2         5.090909  \n",
      "3         7.125000  \n",
      "4         4.500000  \n"
     ]
    }
   ],
   "source": [
    "import numpy as np \n",
    "# 1. Create a column for character count\n",
    "traindata['char_count'] = traindata['text'].apply(len)\n",
    "\n",
    "# 2. Create a column for word count\n",
    "# .split() turns the text into a list of words\n",
    "traindata['word_count'] = traindata['text'].apply(lambda x: len(x.split()))\n",
    "\n",
    "# 3. Create a column for average word length\n",
    "# This calculates the average length of words in each tweet, handling empty tweets.\n",
    "traindata['avg_word_length'] = traindata['text'].apply(lambda x: np.mean([len(w) for w in x.split()]) if len(x.split()) > 0 else 0)\n",
    "\n",
    "\n",
    "# Display the first few rows with the new columns to see the result\n",
    "print(\"DataFrame with new meta-features:\")\n",
    "print(traindata[['text', 'char_count', 'word_count', 'avg_word_length']].head())"
   ]
  },
  {
   "cell_type": "code",
   "execution_count": 36,
   "id": "646016ef",
   "metadata": {},
   "outputs": [
    {
     "data": {
      "image/png": "[encoded data removed]",
      "text/plain": [
       "<Figure size 1800x600 with 3 Axes>"
      ]
     },
     "metadata": {},
     "output_type": "display_data"
    }
   ],
   "source": [
    "import seaborn as sns\n",
    "import matplotlib.pyplot as plt\n",
    "\n",
    "# Set up a figure with 3 subplots side-by-side\n",
    "fig, axes = plt.subplots(1, 3, figsize=(18, 6))\n",
    "\n",
    "# --- Plot 1: Character Count Distribution ---\n",
    "sns.histplot(data=traindata, x='char_count', hue='target', ax=axes[0])\n",
    "axes[0].set_title('Character Count Distribution')\n",
    "\n",
    "# --- Plot 2: Word Count Distribution ---\n",
    "sns.histplot(data=traindata, x='word_count', hue='target', ax=axes[1])\n",
    "axes[1].set_title('Word Count Distribution')\n",
    "\n",
    "# --- Plot 3: Average Word Length Distribution ---\n",
    "sns.histplot(data=traindata, x='avg_word_length', hue='target', ax=axes[2])\n",
    "axes[2].set_title('Avg. Word Length Distribution')\n",
    "\n",
    "# Display the plots\n",
    "plt.tight_layout()\n",
    "plt.show()"
   ]
  },
  {
   "cell_type": "code",
   "execution_count": 40,
   "id": "c73dd8ab",
   "metadata": {},
   "outputs": [
    {
     "name": "stderr",
     "output_type": "stream",
     "text": [
      "[nltk_data] Downloading package stopwords to\n",
      "[nltk_data]     C:\\Users\\sreeh\\AppData\\Roaming\\nltk_data...\n",
      "[nltk_data]   Package stopwords is already up-to-date!\n",
      "[nltk_data] Downloading package wordnet to\n",
      "[nltk_data]     C:\\Users\\sreeh\\AppData\\Roaming\\nltk_data...\n",
      "[nltk_data]   Package wordnet is already up-to-date!\n",
      "[nltk_data] Downloading package punkt to\n",
      "[nltk_data]     C:\\Users\\sreeh\\AppData\\Roaming\\nltk_data...\n",
      "[nltk_data]   Package punkt is already up-to-date!\n",
      "[nltk_data] Downloading package punkt_tab to\n",
      "[nltk_data]     C:\\Users\\sreeh\\AppData\\Roaming\\nltk_data...\n",
      "[nltk_data]   Unzipping tokenizers\\punkt_tab.zip.\n"
     ]
    },
    {
     "data": {
      "text/plain": [
       "True"
      ]
     },
     "execution_count": 40,
     "metadata": {},
     "output_type": "execute_result"
    }
   ],
   "source": [
    "import nltk\n",
    "\n",
    "# Download the list of stop words\n",
    "nltk.download('stopwords')\n",
    "\n",
    "# Download the WordNet corpus for lemmatization\n",
    "nltk.download('wordnet')\n",
    "\n",
    "# Download the tokenizer models\n",
    "nltk.download('punkt')\n",
    "\n",
    "nltk.download('punkt_tab')"
   ]
  },
  {
   "cell_type": "code",
   "execution_count": 41,
   "id": "80f89054",
   "metadata": {},
   "outputs": [
    {
     "name": "stdout",
     "output_type": "stream",
     "text": [
      "Original Tweet:\n",
      " OMG! Our house is on fire!! Check the news http://t.co/news flooding our city with water & debris... #disaster\n",
      "\n",
      "Cleaned Tweet:\n",
      " omg house fire check news flooding city water debris disaster\n"
     ]
    }
   ],
   "source": [
    "import re\n",
    "import string\n",
    "from nltk.corpus import stopwords\n",
    "from nltk.stem import WordNetLemmatizer\n",
    "from nltk.tokenize import word_tokenize\n",
    "\n",
    "# Initialize the lemmatizer\n",
    "lemmatizer = WordNetLemmatizer()\n",
    "\n",
    "def clean_text(text):\n",
    "    # 1. Make text lowercase\n",
    "    text = text.lower()\n",
    "    \n",
    "    # 2. Remove URLs\n",
    "    text = re.sub(r'https?://\\S+|www\\.\\S+', '', text)\n",
    "    \n",
    "    # 3. Remove punctuation\n",
    "    # This also handles the '%20' encoding we found earlier\n",
    "    text = re.sub(f'[{re.escape(string.punctuation)}]', '', text)\n",
    "    \n",
    "    # 4. Remove numbers - often they don't help in this context\n",
    "    text = re.sub(r'\\w*\\d\\w*', '', text)\n",
    "    \n",
    "    # 5. Tokenize the text (split into a list of words)\n",
    "    tokens = word_tokenize(text)\n",
    "    \n",
    "    # 6. Remove stop words\n",
    "    stop_words = set(stopwords.words('english'))\n",
    "    tokens = [word for word in tokens if word not in stop_words]\n",
    "    \n",
    "    # 7. Lemmatization\n",
    "    tokens = [lemmatizer.lemmatize(word) for word in tokens]\n",
    "    \n",
    "    # 8. Join the words back into a single string\n",
    "    cleaned_text = ' '.join(tokens)\n",
    "    \n",
    "    return cleaned_text\n",
    "\n",
    "# --- Let's test it with an example ---\n",
    "messy_tweet = \"OMG! Our house is on fire!! Check the news http://t.co/news flooding our city with water & debris... #disaster\"\n",
    "cleaned_tweet = clean_text(messy_tweet)\n",
    "\n",
    "print(\"Original Tweet:\\n\", messy_tweet)\n",
    "print(\"\\nCleaned Tweet:\\n\", cleaned_tweet)"
   ]
  },
  {
   "cell_type": "code",
   "execution_count": 42,
   "id": "a6870577",
   "metadata": {},
   "outputs": [
    {
     "name": "stdout",
     "output_type": "stream",
     "text": [
      "Cleaning the training data...\n",
      "Cleaning the testing data...\n",
      "\n",
      "DataFrame with the new 'cleaned_text' column:\n",
      "                                                text  \\\n",
      "0  Our Deeds are the Reason of this #earthquake M...   \n",
      "1             Forest fire near La Ronge Sask. Canada   \n",
      "2  All residents asked to 'shelter in place' are ...   \n",
      "3  13,000 people receive #wildfires evacuation or...   \n",
      "4  Just got sent this photo from Ruby #Alaska as ...   \n",
      "\n",
      "                                        cleaned_text  \n",
      "0         deed reason earthquake may allah forgive u  \n",
      "1              forest fire near la ronge sask canada  \n",
      "2  resident asked shelter place notified officer ...  \n",
      "3  people receive wildfire evacuation order calif...  \n",
      "4  got sent photo ruby alaska smoke wildfire pour...  \n"
     ]
    }
   ],
   "source": [
    "# Create a new 'cleaned_text' column in both dataframes\n",
    "print(\"Cleaning the training data...\")\n",
    "traindata['cleaned_text'] = traindata['text'].apply(clean_text)\n",
    "\n",
    "print(\"Cleaning the testing data...\")\n",
    "testdata['cleaned_text'] = testdata['text'].apply(clean_text)\n",
    "\n",
    "\n",
    "# Display the first few rows to see the new column\n",
    "print(\"\\nDataFrame with the new 'cleaned_text' column:\")\n",
    "print(traindata[['text', 'cleaned_text']].head())"
   ]
  },
  {
   "cell_type": "code",
   "execution_count": 43,
   "id": "8fd17a4e",
   "metadata": {},
   "outputs": [
    {
     "name": "stdout",
     "output_type": "stream",
     "text": [
      "Shape of the training data matrix (X_train): (7613, 5000)\n",
      "Shape of the testing data matrix (X_test): (3263, 5000)\n",
      "Shape of the training labels (y_train): (7613,)\n"
     ]
    }
   ],
   "source": [
    "from sklearn.feature_extraction.text import TfidfVectorizer\n",
    "\n",
    "# 1. Initialize the TF-IDF Vectorizer\n",
    "# We'll set a few parameters:\n",
    "# - max_features=5000: This will only consider the top 5000 most frequent words.\n",
    "#   This helps to keep the model focused on the most relevant terms.\n",
    "# - ngram_range=(1, 2): This tells the vectorizer to consider not just single\n",
    "#   words (unigrams) but also pairs of adjacent words (bigrams). For example,\n",
    "#   \"forest fire\" will be treated as a single feature, which is very powerful.\n",
    "tfidf_vectorizer = TfidfVectorizer(max_features=5000, ngram_range=(1, 2))\n",
    "\n",
    "\n",
    "# 2. Fit the vectorizer on the training data and transform it\n",
    "# .fit_transform() learns the vocabulary from the data and converts the text\n",
    "# into a numerical matrix all in one step.\n",
    "X_train = tfidf_vectorizer.fit_transform(traindata['cleaned_text'])\n",
    "\n",
    "\n",
    "# 3. Transform the test data\n",
    "# IMPORTANT: We only use .transform() on the test data. We do NOT fit it again.\n",
    "# This ensures that the test data is transformed using the exact same vocabulary\n",
    "# learned from the training data.\n",
    "X_test = tfidf_vectorizer.transform(testdata['cleaned_text'])\n",
    "\n",
    "\n",
    "# 4. Prepare the target variable (the labels)\n",
    "y_train = traindata['target']\n",
    "\n",
    "\n",
    "# --- Let's check the shape of our new matrices ---\n",
    "print(\"Shape of the training data matrix (X_train):\", X_train.shape)\n",
    "print(\"Shape of the testing data matrix (X_test):\", X_test.shape)\n",
    "print(\"Shape of the training labels (y_train):\", y_train.shape)"
   ]
  },
  {
   "cell_type": "code",
   "execution_count": 46,
   "id": "18f698ef",
   "metadata": {},
   "outputs": [
    {
     "name": "stdout",
     "output_type": "stream",
     "text": [
      "Training the final model on the entire training dataset...\n",
      "Final model training complete.\n",
      "Making final predictions on the test data...\n",
      "Creating the final submission file...\n",
      "\n",
      "Final submission file 'final_submission.csv' created successfully!\n",
      "This is the file you should upload to Kaggle.\n",
      "   id  target\n",
      "0   0       1\n",
      "1   2       0\n",
      "2   3       1\n",
      "3   9       1\n",
      "4  11       1\n"
     ]
    }
   ],
   "source": [
    "import pandas as pd\n",
    "from sklearn.naive_bayes import MultinomialNB\n",
    "\n",
    "# -------------------------------------------------------------------\n",
    "# Final Model Training (on 100% of the data)\n",
    "# -------------------------------------------------------------------\n",
    "print(\"Training the final model on the entire training dataset...\")\n",
    "\n",
    "# Initialize a new model instance\n",
    "final_model = MultinomialNB()\n",
    "\n",
    "# Train the model on the FULL X_train and y_train\n",
    "final_model.fit(X_train, y_train)\n",
    "\n",
    "print(\"Final model training complete.\")\n",
    "\n",
    "\n",
    "# -------------------------------------------------------------------\n",
    "# Final Predictions\n",
    "# -------------------------------------------------------------------\n",
    "print(\"Making final predictions on the test data...\")\n",
    "\n",
    "# Predict on the Kaggle test data (X_test)\n",
    "final_predictions = final_model.predict(X_test)\n",
    "\n",
    "\n",
    "# -------------------------------------------------------------------\n",
    "# Create Final Submission File\n",
    "# -------------------------------------------------------------------\n",
    "print(\"Creating the final submission file...\")\n",
    "\n",
    "final_submission_df = pd.DataFrame({\n",
    "    'id': testdata['id'],\n",
    "    'target': final_predictions\n",
    "})\n",
    "\n",
    "# Save the final submission file\n",
    "final_submission_df.to_csv('final_submission.csv', index=False)\n",
    "\n",
    "\n",
    "# --- Confirmation ---\n",
    "print(\"\\nFinal submission file 'final_submission.csv' created successfully!\")\n",
    "print(\"This is the file you should upload to Kaggle.\")\n",
    "print(final_submission_df.head())"
   ]
  },
  {
   "cell_type": "code",
   "execution_count": 47,
   "id": "6e484b05",
   "metadata": {},
   "outputs": [
    {
     "data": {
      "text/plain": [
       "(3263, 2)"
      ]
     },
     "execution_count": 47,
     "metadata": {},
     "output_type": "execute_result"
    }
   ],
   "source": [
    "sub=pd.read_csv(\"final_submission.csv\")\n",
    "sub.shape"
   ]
  }
 ],
 "metadata": {
  "kernelspec": {
   "display_name": "xai_env",
   "language": "python",
   "name": "python3"
  },
  "language_info": {
   "codemirror_mode": {
    "name": "ipython",
    "version": 3
   },
   "file_extension": ".py",
   "mimetype": "text/x-python",
   "name": "python",
   "nbconvert_exporter": "python",
   "pygments_lexer": "ipython3",
   "version": "3.10.13"
  }
 },
 "nbformat": 4,
 "nbformat_minor": 5
}
